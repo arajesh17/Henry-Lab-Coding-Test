{
 "cells": [
  {
   "cell_type": "markdown",
   "metadata": {},
   "source": [
    "# Henrylab Coding Test"
   ]
  },
  {
   "cell_type": "markdown",
   "metadata": {},
   "source": [
    "All code should be shown in this jupyter notebook. "
   ]
  },
  {
   "cell_type": "code",
   "execution_count": null,
   "metadata": {
    "collapsed": true
   },
   "outputs": [],
   "source": []
  },
  {
   "cell_type": "code",
   "execution_count": null,
   "metadata": {
    "collapsed": true
   },
   "outputs": [],
   "source": []
  },
  {
   "cell_type": "markdown",
   "metadata": {},
   "source": [
    "### Instructions###\n",
    "\n",
    "1. Download the anatomical images of 5 subjects from the [ABIDE dataset](http://preprocessed-connectomes-project.org/abide/download.html). \n",
    "    * For example, one URL to downnload is: http://s3.amazonaws.com/fcp-indi/data/Projects/ABIDE_Initiative/RawData/Pitt/0050008/session_1/anat_1/mprage.nii.gz , where the subject id is 0050008\n",
    "    \n",
    "2. Set up an anaconda python environment: https://www.continuum.io/downloads and install the nipype and nilearn packages\n",
    "    ```bash \n",
    "conda create --name env_name python=3 anaconda\n",
    "conda config --add channels conda-forge\n",
    "conda install -y nipype\n",
    "conda install -y nilearn\n",
    "```\n",
    "\n",
    "3. Download and install [FSL](https://fsl.fmrib.ox.ac.uk/fsldownloads/)\n",
    "\n",
    "4. Read the tutorial on [nipype interfaces](https://miykael.github.io/nipype_tutorial/notebooks/basic_interfaces.html) and do the following:\n",
    "    * For each subject, create a brain mask using FSL's BET through nipype interfaces. \n",
    "    * Create images for each brain mask overlaid on the original anatomica image using nilearn's plotting tools (Hint: use [plot_roi](http://nilearn.github.io/auto_examples/01_plotting/plot_demo_plotting.html#plotting-rois-here-the-mask-with-function-plot-roi) ) in this noteboook\n",
    "    \n",
    "5. Read the tutorial on [nipype workflows](https://miykael.github.io/nipype_tutorial/notebooks/basic_workflow.html) and do the following:\n",
    "    * Create a workflow that runs BET on 1 subject, and then runs FSL's [FAST](http://nipype.readthedocs.io/en/latest/interfaces/generated/nipype.interfaces.fsl.preprocess.html#fast) to segment gray and white matter, CSF. The masked brain (BET output) is what FAST should use to segment.\n",
    "    * Create and display an image of the workflow using `workflow.write_graph()`\n",
    "    \n",
    "6. Read the tutorial on the [DataGrabber](https://miykael.github.io/nipype_tutorial/notebooks/basic_data_input.html) and [DataSink](https://miykael.github.io/nipype_tutorial/notebooks/basic_data_output.html) nodes and:\n",
    "    * define a datagrabber node that takes in a subject_id field and returns the path to the T1 image. Connect the output of the datagrabber to the input of the BET node \n",
    "    * define a datasink node that saves the output probability images of FAST and the brain-mask from BET.\n",
    "    * Create images of the probability maps from FAST using nilearn's plotting tools (Hint: use [plot_stat_map](http://nilearn.github.io/auto_examples/01_plotting/plot_demo_plotting.html#plotting-statistical-maps-with-function-plot-stat-map))\n",
    "    * display the workflow graph\n",
    "    \n",
    "7. Look at documentation for the [IdentityInterface](https://miykael.github.io/nipype_tutorial/notebooks/basic_data_input.html) and:\n",
    "    * Create an identity node that takes in a subject_id\n",
    "    * connect the subject_id output of the identity node to the subject_id input of the datagrabber\n",
    "    * display the worflow graph\n",
    "    \n",
    "8. Read the second tutorial on [nipype workflows](https://miykael.github.io/nipype_tutorial/notebooks/basic_iteration.html) on iterables and iterfields. \n",
    "    * Define an iterable on the IdentityInterface's subject_id, as a list of all 5 subject ids\n",
    "    * Run the workflow on all 5 subjects\n",
    "    \n",
    "9. Read the documentation on [Function Nodes](https://miykael.github.io/nipype_tutorial/notebooks/basic_function_interface.html)\n",
    "    * Write a function that takes in a probability image and base T1 image and saves a .png file. The function should return the path to the .png image. \n",
    "    * Wrap your visualization function in a Function Node\n",
    "    * Connect the Function node to the outputs of the DataGrabber (for the base T1 image) and the output of FAST (for the probability image). \n",
    "    * Connect the output of the function node to the DataSink Node\n",
    "    * Display the graph\n",
    "    * Run the workflow\n"
   ]
  },
  {
   "cell_type": "markdown",
   "metadata": {},
   "source": [
    "## 4. Nipype interfaces"
   ]
  },
  {
   "cell_type": "markdown",
   "metadata": {},
   "source": [
    "#### 4.1 Brain Masking from FSL's BET"
   ]
  },
  {
   "cell_type": "code",
   "execution_count": 2,
   "metadata": {
    "collapsed": true
   },
   "outputs": [],
   "source": [
    "from nipype.interfaces.fsl import BET"
   ]
  },
  {
   "cell_type": "code",
   "execution_count": null,
   "metadata": {
    "collapsed": true
   },
   "outputs": [],
   "source": []
  },
  {
   "cell_type": "markdown",
   "metadata": {},
   "source": [
    "#### 4.2 Images of brain masks using nilearn"
   ]
  },
  {
   "cell_type": "code",
   "execution_count": 1,
   "metadata": {},
   "outputs": [
    {
     "name": "stdout",
     "output_type": "stream",
     "text": [
      "Populating the interactive namespace from numpy and matplotlib\n"
     ]
    }
   ],
   "source": [
    "%pylab inline\n",
    "from nilearn.plotting import plot_roi"
   ]
  },
  {
   "cell_type": "code",
   "execution_count": null,
   "metadata": {
    "collapsed": true
   },
   "outputs": [],
   "source": []
  },
  {
   "cell_type": "markdown",
   "metadata": {},
   "source": [
    "## 5. Nipype Workflows"
   ]
  },
  {
   "cell_type": "code",
   "execution_count": null,
   "metadata": {
    "collapsed": true
   },
   "outputs": [],
   "source": []
  },
  {
   "cell_type": "markdown",
   "metadata": {},
   "source": [
    "## 6. DataGrabber and DataSink"
   ]
  },
  {
   "cell_type": "code",
   "execution_count": null,
   "metadata": {
    "collapsed": true
   },
   "outputs": [],
   "source": []
  },
  {
   "cell_type": "markdown",
   "metadata": {},
   "source": [
    "## 7. IdentityInterfaces"
   ]
  },
  {
   "cell_type": "code",
   "execution_count": null,
   "metadata": {
    "collapsed": true
   },
   "outputs": [],
   "source": []
  },
  {
   "cell_type": "markdown",
   "metadata": {},
   "source": [
    "## 8. Iterables and Iterfields"
   ]
  },
  {
   "cell_type": "code",
   "execution_count": null,
   "metadata": {
    "collapsed": true
   },
   "outputs": [],
   "source": []
  },
  {
   "cell_type": "markdown",
   "metadata": {},
   "source": [
    "## 9. Function Nodes"
   ]
  },
  {
   "cell_type": "code",
   "execution_count": null,
   "metadata": {
    "collapsed": true
   },
   "outputs": [],
   "source": []
  }
 ],
 "metadata": {
  "kernelspec": {
   "display_name": "Python 3",
   "language": "python",
   "name": "python3"
  },
  "language_info": {
   "codemirror_mode": {
    "name": "ipython",
    "version": 3
   },
   "file_extension": ".py",
   "mimetype": "text/x-python",
   "name": "python",
   "nbconvert_exporter": "python",
   "pygments_lexer": "ipython3",
   "version": "3.6.4"
  }
 },
 "nbformat": 4,
 "nbformat_minor": 1
}
